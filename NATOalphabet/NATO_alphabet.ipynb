{
 "cells": [
  {
   "cell_type": "code",
   "execution_count": 1,
   "id": "3d6c8832-f818-4572-bc27-453e4eabafc4",
   "metadata": {},
   "outputs": [],
   "source": [
    "import pandas"
   ]
  },
  {
   "cell_type": "code",
   "execution_count": 2,
   "id": "4d4376b7-2708-4594-a8c9-cb34f3f58592",
   "metadata": {},
   "outputs": [
    {
     "name": "stdout",
     "output_type": "stream",
     "text": [
      "   letter      code\n",
      "0       A      Alfa\n",
      "1       B     Bravo\n",
      "2       C   Charlie\n",
      "3       D     Delta\n",
      "4       E      Echo\n",
      "5       F   Foxtrot\n",
      "6       G      Golf\n",
      "7       H     Hotel\n",
      "8       I     India\n",
      "9       J    Juliet\n",
      "10      K      Kilo\n",
      "11      L      Lima\n",
      "12      M      Mike\n",
      "13      N  November\n",
      "14      O     Oscar\n",
      "15      P      Papa\n",
      "16      Q    Quebec\n",
      "17      R     Romeo\n",
      "18      S    Sierra\n",
      "19      T     Tango\n",
      "20      U   Uniform\n",
      "21      V    Victor\n",
      "22      W   Whiskey\n",
      "23      X     X-ray\n",
      "24      Y    Yankee\n",
      "25      Z      Zulu\n"
     ]
    }
   ],
   "source": [
    "data = pandas.read_csv(\"nato_phonetic_alphabet.csv\")\n",
    "print(data)"
   ]
  },
  {
   "cell_type": "code",
   "execution_count": 3,
   "id": "db4e3127-ed98-4859-940a-75569c8936ff",
   "metadata": {},
   "outputs": [],
   "source": [
    "dict = {row.letter:row.code for (index, row) in data.iterrows()}"
   ]
  },
  {
   "cell_type": "code",
   "execution_count": 4,
   "id": "f25d5582-653d-4a5c-aa59-bf3ba4086d49",
   "metadata": {},
   "outputs": [
    {
     "name": "stdout",
     "output_type": "stream",
     "text": [
      "{'A': 'Alfa', 'B': 'Bravo', 'C': 'Charlie', 'D': 'Delta', 'E': 'Echo', 'F': 'Foxtrot', 'G': 'Golf', 'H': 'Hotel', 'I': 'India', 'J': 'Juliet', 'K': 'Kilo', 'L': 'Lima', 'M': 'Mike', 'N': 'November', 'O': 'Oscar', 'P': 'Papa', 'Q': 'Quebec', 'R': 'Romeo', 'S': 'Sierra', 'T': 'Tango', 'U': 'Uniform', 'V': 'Victor', 'W': 'Whiskey', 'X': 'X-ray', 'Y': 'Yankee', 'Z': 'Zulu'}\n"
     ]
    }
   ],
   "source": [
    "print(dict)"
   ]
  },
  {
   "cell_type": "code",
   "execution_count": 5,
   "id": "33cb09ee-11e6-4f47-9402-8e45266855e1",
   "metadata": {},
   "outputs": [
    {
     "name": "stdin",
     "output_type": "stream",
     "text": [
      "Enter a word:  Butterfly\n"
     ]
    }
   ],
   "source": [
    "word = input(\"Enter a word: \").upper()"
   ]
  },
  {
   "cell_type": "code",
   "execution_count": 6,
   "id": "dabb1e7d-e58d-4a57-9cc0-02779d94c73c",
   "metadata": {},
   "outputs": [],
   "source": [
    "list = []"
   ]
  },
  {
   "cell_type": "code",
   "execution_count": 7,
   "id": "89eb7b0f-a8d3-49e3-b831-c4ce86d6f13e",
   "metadata": {},
   "outputs": [
    {
     "name": "stdout",
     "output_type": "stream",
     "text": [
      "['Bravo', 'Uniform', 'Tango', 'Tango', 'Echo', 'Romeo', 'Foxtrot', 'Lima', 'Yankee']\n"
     ]
    }
   ],
   "source": [
    "for letter in word:\n",
    "    list.append(dict[letter])\n",
    "print(list)"
   ]
  },
  {
   "cell_type": "code",
   "execution_count": null,
   "id": "d800f7ba-e658-4c8a-b76b-e41c793b5a68",
   "metadata": {},
   "outputs": [],
   "source": []
  }
 ],
 "metadata": {
  "kernelspec": {
   "display_name": "Python 3 (ipykernel)",
   "language": "python",
   "name": "python3"
  },
  "language_info": {
   "codemirror_mode": {
    "name": "ipython",
    "version": 3
   },
   "file_extension": ".py",
   "mimetype": "text/x-python",
   "name": "python",
   "nbconvert_exporter": "python",
   "pygments_lexer": "ipython3",
   "version": "3.9.13"
  }
 },
 "nbformat": 4,
 "nbformat_minor": 5
}
